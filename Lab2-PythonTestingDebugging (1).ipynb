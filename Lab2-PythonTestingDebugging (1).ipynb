{
 "cells": [
  {
   "cell_type": "markdown",
   "metadata": {},
   "source": [
    "# Lab1: Python Testing and Debugging"
   ]
  },
  {
   "cell_type": "markdown",
   "metadata": {},
   "source": [
    "## Author: <font color = \"red\">{Insert-Student-Name-HERE}</font>"
   ]
  },
  {
   "cell_type": "markdown",
   "metadata": {},
   "source": [
    "### This Lab will have you try a few Python testing and debugging strategies using Jupyter Notebook. \n",
    "\n",
    "<div class=\"alert alert-warning\">\n",
    "    <strong>Read through the information and ...</strong><br>\n",
    "    - Provide code for each step in the <font color=\"blue\">Question x</font> sections below.</strong><br>\n",
    "    - Insert your code following the <font color=\"red\">Question x - ANSWERS</font> heading in the cell containing '# INSERT YOUR CODE HERE'<br>\n",
    "    - <strong>DO NOT MAKE CHANGES</strong> to the cells containing '# DO NOT MODIFY!' comments - just run the cell to print the resulting values<br>These cells are used to generate the output used to verify your code.\n",
    "  \n",
    "</div>"
   ]
  },
  {
   "cell_type": "markdown",
   "metadata": {},
   "source": [
    "### Python Testing using Assert statements\n",
    "\n",
    "Asserts test a condition, and raise an AssertionError if the condition is False\n",
    "\n",
    "**Syntax:**\n",
    "- **assert &lt;_condition_&gt;, &lt;_error message_&gt;**\n",
    "\n",
    "**EXAMPLES:**\n",
    "- assert y != 0, \"divide by zero error\"\n",
    "- assert len(student_list) < 32, \"too many students in the class\"\n",
    "- assert type(ck_amt) != str, \"check amount must be int or float\"\n",
    "\n",
    "**w3schools.com**\n",
    "- Asserts: https://www.w3schools.com/python/ref_keyword_assert.asp"
   ]
  },
  {
   "cell_type": "markdown",
   "metadata": {},
   "source": [
    "### <font color='blue'>Question 1 (10 points)</font>\n",
    "1. Create a function named **feet_to_inches(feet)** <br>\n",
    "    1.1 Include an **assert** to check 'feet' is an **int** with error message = 'feet is not an integer' <br>\n",
    "    1.2 Convert 'feet' to 'inches' <br>\n",
    "    1.3 Return the value of 'inches'"
   ]
  },
  {
   "cell_type": "markdown",
   "metadata": {},
   "source": [
    "### <font color=\"red\">Question 1 - ANSWERS</font>"
   ]
  },
  {
   "cell_type": "code",
   "execution_count": 1,
   "metadata": {},
   "outputs": [],
   "source": [
    "# INSERT YOUR CODE HERE FOR FUNCTION feet_to_inches(ft)"
   ]
  },
  {
   "cell_type": "code",
   "execution_count": 2,
   "metadata": {},
   "outputs": [
    {
     "name": "stdout",
     "output_type": "stream",
     "text": [
      "QUESTION 1 - ANSWERS\n"
     ]
    },
    {
     "ename": "NameError",
     "evalue": "name 'feet_to_inches' is not defined",
     "output_type": "error",
     "traceback": [
      "\u001b[1;31m---------------------------------------------------------------------------\u001b[0m",
      "\u001b[1;31mNameError\u001b[0m                                 Traceback (most recent call last)",
      "\u001b[1;32m<ipython-input-2-693a9fecc6b4>\u001b[0m in \u001b[0;36m<module>\u001b[1;34m\u001b[0m\n\u001b[0;32m      4\u001b[0m \u001b[1;31m# TEST CASE 1\u001b[0m\u001b[1;33m\u001b[0m\u001b[1;33m\u001b[0m\u001b[1;33m\u001b[0m\u001b[0m\n\u001b[0;32m      5\u001b[0m \u001b[1;32mtry\u001b[0m\u001b[1;33m:\u001b[0m\u001b[1;33m\u001b[0m\u001b[1;33m\u001b[0m\u001b[0m\n\u001b[1;32m----> 6\u001b[1;33m     \u001b[0minches\u001b[0m \u001b[1;33m=\u001b[0m \u001b[0mfeet_to_inches\u001b[0m\u001b[1;33m(\u001b[0m\u001b[1;36m6\u001b[0m\u001b[1;33m)\u001b[0m\u001b[1;33m\u001b[0m\u001b[1;33m\u001b[0m\u001b[0m\n\u001b[0m\u001b[0;32m      7\u001b[0m \u001b[1;32mexcept\u001b[0m \u001b[0mAssertionError\u001b[0m \u001b[1;32mas\u001b[0m \u001b[0mmsg\u001b[0m\u001b[1;33m:\u001b[0m\u001b[1;33m\u001b[0m\u001b[1;33m\u001b[0m\u001b[0m\n\u001b[0;32m      8\u001b[0m     \u001b[0mprint\u001b[0m\u001b[1;33m(\u001b[0m\u001b[1;34m\"TEST1: \"\u001b[0m\u001b[1;33m,\u001b[0m \u001b[1;34m\"feet_to_inches(6) failed\"\u001b[0m\u001b[1;33m)\u001b[0m\u001b[1;33m\u001b[0m\u001b[1;33m\u001b[0m\u001b[0m\n",
      "\u001b[1;31mNameError\u001b[0m: name 'feet_to_inches' is not defined"
     ]
    }
   ],
   "source": [
    "# DO NOT MODIFY!\n",
    "print(\"QUESTION 1 - ANSWERS\")\n",
    "\n",
    "# TEST CASE 1\n",
    "try: \n",
    "    inches = feet_to_inches(6) \n",
    "except AssertionError as msg:\n",
    "    print(\"TEST1: \", \"feet_to_inches(6) failed\")\n",
    "    print(\"TEST1: \", msg)\n",
    "else:\n",
    "    print(\"TEST1: \", \"feet_to_inches(6) passed\")\n",
    "    print(\"TEST1: INCHES = \", inches) \n",
    "    \n",
    "print()\n",
    "\n",
    "# TEST CASE 2    \n",
    "try: \n",
    "    inches = feet_to_inches(2.5)\n",
    "except AssertionError as msg:\n",
    "    print(\"TEST2: \", \"feet_to_inches(2.5) failed\")\n",
    "    print(\"TEST2: \", msg)   \n",
    "else:\n",
    "    print(\"TEST2: \", \"feet_to_inches(2.5) passed\")\n",
    "    print(\"TEST2: INCHES = \", inches)    \n",
    "      \n",
    "print()\n",
    "\n",
    "# TEST CASE 3\n",
    "try: \n",
    "    inches = feet_to_inches('6')\n",
    "    print(\"INCHES = \", inches)\n",
    "except AssertionError as msg:\n",
    "    print(\"TEST3: \", \"feet_to_inches('6') failed\")  \n",
    "    print(\"TEST3: \", msg)       \n",
    "else:\n",
    "    print(\"TEST3: \", \"feet_to_inches('6') passed\")  \n",
    "    print(\"TEST3: INCHES = \", inches)     \n",
    "    \n",
    "print()    \n",
    "    \n",
    "# TEST CASE 4\n",
    "try: \n",
    "    inches = feet_to_inches(12)\n",
    "except AssertionError as msg:\n",
    "    print(\"TEST4: \", \"feet_to_inches(12) failed\")  \n",
    "    print(\"TEST4: \", msg)       \n",
    "else:\n",
    "    print(\"TEST4: \", \"feet_to_inches(12) passed\")  \n",
    "    print(\"TEST4: INCHES = \", inches)     "
   ]
  },
  {
   "cell_type": "markdown",
   "metadata": {},
   "source": [
    "### <font color='blue'>Question 2 (10 points)</font>\n",
    "1. Use the function named **avg_grades(grades)** provided ... <br>\n",
    "<font color='blue'>Insert the following two **assert** statements after the comment # INSERT YOUR TWO ASSERT STATEMENTS HERE </font><br><br>\n",
    "    1.1 Add **assert** to check if 'grade' is **greater than or equal to 0** with <br>\n",
    "    error message = 'Invalid grade: [ _grade_ ] is not greater than or equal to 0' <br><br>\n",
    "    1.2 Add **assert** to check if 'grade' is **less than 100** with <br>\n",
    "    error message = 'Invalid grade: [ _grade_ ] is greater than 100' <br>    \n",
    "   **NOTE:** Your messages can be created using concatenated strings, so please **display the BAD _grade_ value** in the assert message<br><br>\n",
    " \n",
    "<font color='blue'>Insert the following 3 grade variable definitions after the comment # INSERT YOUR CODE HERE ... </font><br><br>\n",
    "2. Define grades1 = [65, 0, 80, 87, 76]<br>\n",
    "3. Define grades2 = [80, -10, 85, 90, 100]<br>\n",
    "4. Define grades3 = [95, 85, 90, 110, 80]"
   ]
  },
  {
   "cell_type": "markdown",
   "metadata": {},
   "source": [
    "### <font color=\"red\">Question 2 - ANSWERS</font>"
   ]
  },
  {
   "cell_type": "code",
   "execution_count": null,
   "metadata": {},
   "outputs": [],
   "source": [
    "def avg_grades(grades):\n",
    "    total = 0\n",
    "    for grade in grades:\n",
    "        # INSERT YOUR TWO ASSERT STATEMENTS HERE\n",
    "\n",
    "        \n",
    "        total += grade\n",
    "    return total / len(grades)\n",
    "\n",
    "# INSERT YOUR CODE HERE TO DEFINE grades1 & grades2 & grades3\n",
    "\n",
    "\n"
   ]
  },
  {
   "cell_type": "code",
   "execution_count": null,
   "metadata": {},
   "outputs": [],
   "source": [
    "# DO NOT MODIFY!\n",
    "print(\"QUESTION 2 - ANSWERS\")\n",
    "\n",
    "# TEST CASE 1\n",
    "try: \n",
    "    avg = avg_grades(grades1)\n",
    "except AssertionError as msg:\n",
    "    print (\"TEST1: \", \"avg_grades(grades1) failed\")\n",
    "    print (\"TEST1: \", msg)\n",
    "else:\n",
    "    print (\"TEST1: \", \"avg_grades(grades1) passed\")\n",
    "    print (\"TEST1: \", avg)\n",
    "    \n",
    "print()\n",
    "\n",
    "# TEST CASE 2    \n",
    "try: \n",
    "    avg = avg_grades(grades2)\n",
    "except AssertionError as msg:\n",
    "    print (\"TEST2: \", \"avg_grades(grades2) failed\")\n",
    "    print (\"TEST2: \", msg)\n",
    "else:\n",
    "    print (\"TEST2: \", \"avg_grades(grades2) passed\")\n",
    "    print (\"TEST2: \", avg)    \n",
    "      \n",
    "print()\n",
    "\n",
    "# TEST CASE 3    \n",
    "try: \n",
    "    avg = avg_grades(grades3)\n",
    "except AssertionError as msg:\n",
    "    print (\"TEST3: \", \"avg_grades(grades3) failed\")\n",
    "    print (\"TEST3: \", msg)\n",
    "else:\n",
    "    print (\"TEST3: \", \"avg_grades(grades3) passed\")\n",
    "    print (\"TEST3: \", avg)                  "
   ]
  },
  {
   "cell_type": "markdown",
   "metadata": {},
   "source": [
    "### Python Testing using unittest\n",
    "\n",
    "**IMPORTANT:** To Run unittest in Jupyter Notebook you have to modify unittest.main()\n",
    "- See https://medium.com/@vladbezden/using-python-unittest-in-ipython-or-jupyter-732448724e31 \n",
    "\n",
    "EXAMPLE:<br>\n",
    "```\n",
    "if __name__ == '__main__':\n",
    "    unittest.main(argv=['first-arg-is-ignored'], exit=False)\n",
    "```    \n",
    "\n",
    "\n",
    "**python.org**\n",
    "- unittest: https://docs.python.org/2/library/unittest.html"
   ]
  },
  {
   "cell_type": "markdown",
   "metadata": {
    "tags": []
   },
   "source": [
    "### <font color='blue'>Question 3 (10 points)</font>\n",
    "1. Use the function named **lbs_to_stones** (code provided) <br>\n",
    "2. Use **unittest** to test this function (requires 'import' statement)\n",
    "3. Define a class **Tests(unittest.TestCase)**\n",
    "4. Define a test method named **test_lbs_to_stones(self)** that contains to assertion tests:<br>\n",
    "    4.1 TEST1: Use **assertEqual** to test if **lbs_to_stones(140)** is equal to **10**<br>\n",
    "    4.2 TEST2: Use **assertEqual** to test if **lbs_to_stones(150)** is equal to **11**<br>\n",
    "5. RUN CELL containing: **if __name__ == '__main__' ...*** code to invoke the unit tests (code provided)"
   ]
  },
  {
   "cell_type": "markdown",
   "metadata": {},
   "source": [
    "### <font color=\"red\">Question 3 - ANSWERS</font>"
   ]
  },
  {
   "cell_type": "code",
   "execution_count": null,
   "metadata": {},
   "outputs": [],
   "source": [
    "# DO NOT MODIFY! -- PROVIDED CODE\n",
    "\"\"\"\n",
    "Function that needs to be unit tested\n",
    "\"\"\"\n",
    "def lbs_to_stones(lbs):\n",
    "    return lbs/14"
   ]
  },
  {
   "cell_type": "code",
   "execution_count": null,
   "metadata": {},
   "outputs": [],
   "source": [
    "import unittest\n",
    "\n",
    "# INSERT YOUR CODE HERE\n"
   ]
  },
  {
   "cell_type": "code",
   "execution_count": null,
   "metadata": {},
   "outputs": [],
   "source": [
    "# DO NOT MODIFY!\n",
    "print(\"QUESTION 3 - ANSWERS\")\n",
    "\n",
    "# PROVIDED CODE - to call your unittest code  \n",
    "if __name__ == '__main__':\n",
    "    unittest.main(argv=['first-arg-is-ignored'], exit=False)"
   ]
  },
  {
   "cell_type": "markdown",
   "metadata": {},
   "source": [
    "### Python Debugging with Print()\n",
    "Often, the quickest and most simple way to debug a problem in your code is an added print() statement.\n",
    "\n",
    "Using a print() statement allows you to target a specific line(s) of code and specific variable(s).\n",
    "\n",
    "A BEST PRACTICE ?: \n",
    "Label your print() statementsin some way to identify its purpose as **DEBUG** so that you do NOT leave them in your program when the problem has been resolved. Using a unique, easy to find string at the beginning of your **DEBUG** print() statement(s) will make them easy to find in any output generated. If you insert multiple in a large program, consider numbering them to more easily identify which statement your are seeing and to make locating the line of code quickly.\n",
    "\n",
    "EXAMPLE:<br>\n",
    "```\n",
    "for x in range(0,len(states)):\n",
    "    print(\"DEBUG-1: x=\", x)\n",
    "    print(\">>>DEBUG-2<<<  x=\", x)\n",
    "    ...\n",
    "```    "
   ]
  },
  {
   "cell_type": "markdown",
   "metadata": {},
   "source": [
    "### <font color=\"blue\">Question 4 (15 points)</font>\n",
    "Using print() statements, determine the location of the problem in this function\n",
    "\n",
    "1. Insert at least 1 print(\"DEBUG: <some variable & value>\") statement in the code provided for debugging purposes\n",
    "2. Use the information provided to debug and correct the code.\n",
    "\n",
    "#### LEAVE the print(\"DEBUG <some variable & value>\") statements in the code -- EVEN AFTER YOU CORRECT THE CODE <br> <font color=\"blue\">You must include the text string \"DEBUG:\" in your debugging print statements</font>\n",
    "\n",
    "Answers/output values should be:\n",
    "- student1: 82.50\n",
    "- student2: 90.00\n",
    "- student3: 70.00\n",
    "- Class average: 80.83"
   ]
  },
  {
   "cell_type": "markdown",
   "metadata": {},
   "source": [
    "### <font color=\"red\">Question 4 - ANSWERS</font>"
   ]
  },
  {
   "cell_type": "code",
   "execution_count": 19,
   "metadata": {},
   "outputs": [
    {
     "name": "stdout",
     "output_type": "stream",
     "text": [
      "QUESTION 4 - ANSWERS\n",
      "student1: 14.17\n",
      "student2: 15.00\n",
      "student3: 10.83\n",
      "Class average: 10.83\n"
     ]
    }
   ],
   "source": [
    "# DO NOT MODIFY THE NEXT LINE!\n",
    "print(\"QUESTION 4 - ANSWERS\")\n",
    "\n",
    "##########################################################\n",
    "# CORRECT THE CODE PROBLEMS IN THE PROVIDED CODE\n",
    "# REMEMBER TO LEAVE YOUR DEBUG STATEMENT(S) IN THE CODE!\n",
    "##########################################################\n",
    "\n",
    "\"\"\"\n",
    "Purpose:\n",
    " 1. Calculate & print the average grade for each student\n",
    " 2. Calculate & print the average grade for the class (3 students)\n",
    "\"\"\"\n",
    "\n",
    "student_grades = {\n",
    "  \"student1\": [80, 81, 82, 83, 84, 85],\n",
    "  \"student2\": [85, 85, 95, 95, 90, 90],\n",
    "  \"student3\": [75, 65, 75, 65, 75, 65]\n",
    "}\n",
    "\n",
    "student_count = 0\n",
    "student_total = 0\n",
    "student_avg = 0\n",
    "\n",
    "class_total = 0\n",
    "class_avg = 0\n",
    "\n",
    "for student, grades in student_grades.items():\n",
    "    \n",
    "   \n",
    "    \n",
    "    for grade in grades:\n",
    "        student_total = grade\n",
    "        \n",
    "        # Calculate student average\n",
    "        student_avg = student_total / len(grades)\n",
    "    \n",
    "    # Display each student's name and average\n",
    "    print(f'{student}: {student_avg:.2f}')\n",
    "    \n",
    "student_count += 1\n",
    "\n",
    "    \n",
    "# Add student avg to class total\n",
    "class_total += student_avg\n",
    "    \n",
    "\n",
    "# Calculate class average\n",
    "class_avg = class_total / student_count\n",
    "\n",
    "    \n",
    "# Display class average\n",
    "print(f'Class average: {class_avg:.2f}')"
   ]
  },
  {
   "cell_type": "markdown",
   "metadata": {},
   "source": [
    "### <font color=\"blue\">Question 5 (10 points)</font>\n",
    "Describe the problem(s) you found and corrected in the program code provided above.\n",
    "\n",
    "1. Answer the following question: Describe two(2) errors you found and corrected in the program code.\n",
    "\n",
    "**NOTE:** You can insert your answers using Python code comments (#)"
   ]
  },
  {
   "cell_type": "markdown",
   "metadata": {
    "tags": []
   },
   "source": [
    "### <font color=\"red\">Question 5 - ANSWERS</font>"
   ]
  },
  {
   "cell_type": "code",
   "execution_count": null,
   "metadata": {},
   "outputs": [],
   "source": [
    "# DO NOT MODIFY THE NEXT LINE!\n",
    "print(\"QUESTION 5 - ANSWERS\")\n",
    "\n",
    "# INSERT YOUR ANSWERS HERE\n",
    "# Describe 2 errors you found and corrected in the program code.\n",
    "\n",
    "# Problem was ... ????  \n",
    "# Solution was ... ???? \n",
    "\n",
    "# Problem was ... ???? \n",
    "# Solution was ... ???? "
   ]
  },
  {
   "cell_type": "markdown",
   "metadata": {},
   "source": [
    "### Python Debugging using Logging\n",
    "Logging is standard practice in any reasonably sized application. Logging can be used to trace the flow of your code and to flag events using different severity levels. This helps with debugging and troubleshooting problems and provides an excellent means for understanding the process flow of your application:\n",
    "\n",
    "#### Logging Core Components\n",
    "- Logger ~ the **Logger** class provides the several method to log messages with different priorites\n",
    "- Logging Levels ~ a way to set different priorities for different logging events (see levels below)\n",
    "- Logging formatter ~ allows formatting of messages - i.e. time, module name, line number\n",
    "- Logging handler ~ writes log data to the appropriate destination - i.e. console, file, email \n",
    "\n",
    "#### Logging Levels \n",
    "- logging.critical() ~ highest level - application can no longer execute properly\n",
    "- logging.error() ~ serious issue or problem that may indicate application not working properly\n",
    "- logging.warning() ~ provides info about an unexpected event - possible problem\n",
    "- logging.info() ~ provide general info - used for tracking application behavior\n",
    "- logging.debug() ~ provides detailed information - intended for troubleshooting (diagnostics)\n",
    "\n",
    "#### Logging Handler \n",
    "Various logging handlers are provided. A few commonly used handlers are:\n",
    "- StreamHandler ~ to display on console\n",
    "- FileHandler ~ to write to files\n",
    "- SMTPHandler ~ to email\n",
    "\n",
    "**REQUIRES:** import logging\n",
    "\n",
    "\n",
    "**python.org**\n",
    "- https://docs.python.org/3/howto/logging.html"
   ]
  },
  {
   "cell_type": "markdown",
   "metadata": {},
   "source": [
    "### <font color=\"blue\">Question 6 (10 points)</font>\n",
    "#### Using the DEFAULT logger\n",
    "Without creating an instance of any logger class, there is already a default logger available in Python. \n",
    "The default logger (**root logger**) can be used by simply importing the **logging** module\n",
    "\n",
    "- EXAMPLE: **import logging**\n",
    "\n",
    "Using the default logger, generate the following messages:\n",
    "1. Generate a DEBUG logging message: 'This is a DEBUG message. I am helpful when trying to find a BUG'\n",
    "2. Generate an INFO logging message: 'This is an INFO message. You can track program behavior with me.'\n",
    "3. Generate a WARNING logging message: 'This is a WARNING message. Warning, warning Will Robinson!'\n",
    "4. Generate an ERROR logging message: 'This is an ERROR message. Houston - we have a PROBLEM!!'\n",
    "5. Generate a CRITICAL logging message: 'This is a CRITICAL message. Dial 911 - this is REALLY SERIOUS!!!'\n",
    "\n",
    "#### REFERENCE: https://docs.python.org/3/howto/logging.html"
   ]
  },
  {
   "cell_type": "markdown",
   "metadata": {},
   "source": [
    "#### Additional Logging info:\n",
    "Loggers have a concept of **effective level**. If a level is not explicitly set on a logger, the level of its parent is used instead as its effective level. If the parent has no explicit level set, its parent is examined, and so on. All ancestors are searched until an explicitly set level is found or the **root logger** is reached.\n",
    "\n",
    "**NOTE:** The **root logger** always has an explicit level set **(WARNING by default)**. \n",
    "\n",
    "When deciding whether to process an event, the effective level of the logger is used to determine whether the event is passed to the logger’s handlers."
   ]
  },
  {
   "cell_type": "markdown",
   "metadata": {},
   "source": [
    "### <font color=\"red\">Question 6 - ANSWERS</font>"
   ]
  },
  {
   "cell_type": "code",
   "execution_count": null,
   "metadata": {},
   "outputs": [],
   "source": [
    "# DO NOT MODIFY!\n",
    "print(\"QUESTION 6 - ANSWERS\")"
   ]
  },
  {
   "cell_type": "code",
   "execution_count": null,
   "metadata": {},
   "outputs": [],
   "source": [
    "\n",
    "import logging\n",
    "\n",
    "\"\"\"\n",
    "Generate a variety of logging messages\n",
    "\"\"\"\n",
    "# INSERT YOUR CODE HERE\n"
   ]
  },
  {
   "cell_type": "markdown",
   "metadata": {},
   "source": [
    "### <font color=\"blue\">Question 7 (10 points)</font>\n",
    "Answer the following 2 questions based on the logging messages displayed after running the above (Question 6) code.\n",
    "\n",
    "1. What message Levels are displayed?\n",
    "2. Why are those message Levels displayed (and not the others)?\n",
    "\n",
    "\n",
    "**NOTE:** You can insert your answers using Python code comments (#)"
   ]
  },
  {
   "cell_type": "markdown",
   "metadata": {},
   "source": [
    "### <font color=\"red\">Question 7 - ANSWERS</font>"
   ]
  },
  {
   "cell_type": "code",
   "execution_count": 1,
   "metadata": {},
   "outputs": [
    {
     "name": "stdout",
     "output_type": "stream",
     "text": [
      "QUESTION 7 - ANSWERS\n"
     ]
    }
   ],
   "source": [
    "# DO NOT MODIFY!\n",
    "print(\"QUESTION 7 - ANSWERS\")"
   ]
  },
  {
   "cell_type": "code",
   "execution_count": 2,
   "metadata": {},
   "outputs": [],
   "source": [
    "# INSERT YOUR ANSWERS HERE\n",
    "\n",
    "# For Example:\n",
    "# The Levels displayed are ...\n",
    "# The reason is ..."
   ]
  },
  {
   "cell_type": "markdown",
   "metadata": {},
   "source": [
    "### <font color=\"blue\">Question 8 (15 points)</font>\n",
    "#### Using a NAMED logger\n",
    "Create a separate logger with its own **name** with its own **log level and handler**.\n",
    "This will allow you to log to the console and a file.\n",
    "\n",
    "1. Create a new **my_logger** with the name **'question8_log'**\n",
    "```\n",
    "        my_logger = logging.getLogger('question8_log')\n",
    "```\n",
    "2. Use **setLevel(...)** to set the logging level of **my_logger** to **logging.INFO**\n",
    "3. Create a logging.FileHandler named **fh** specifying a log filename of **CSC221Lab2.log**\n",
    "4. Use **setLevel(...)** to set the logging level of **fh** to **logging.ERROR**\n",
    "5. Create a the following formatter ...\n",
    "```\n",
    "        formatter = logging.Formatter('%(asctime)s - %(name)s - %(levelname)s - %(message)s')\n",
    "```\n",
    "6. Use **setFormatter(...)** to set the **fh** to use **formatter**\n",
    "7. Use **addHandler** to add the **fh** file handler to the **my_logger**\n",
    "8. Generate a DEBUG logger message: 'This is a DEBUG message.' to **my_logger** \n",
    "9. Generate an INFO logger message: 'This is an INFO message.' to **my_logger** \n",
    "10. Generate a WARNING logger message: 'This is a WARNING message.' to **my_logger** \n",
    "11. Generate an ERROR logger message: 'This is an ERROR message.' to **my_logger** \n",
    "12. Generate a CRITICAL logger message: 'This is a CRITICAL message.' to **my_logger** \n",
    "\n",
    "***REFERENCE:*** https://docs.python.org/3/howto/logging-cookbook.html\n",
    "- See the sample code provided at the **REFERENCE** provided as a guide: Heading \"Using logging in multiple modules\""
   ]
  },
  {
   "cell_type": "markdown",
   "metadata": {},
   "source": [
    "### <font color=\"red\">Question 8 - ANSWERS</font>"
   ]
  },
  {
   "cell_type": "code",
   "execution_count": null,
   "metadata": {},
   "outputs": [],
   "source": [
    "# DO NOT MODIFY!\n",
    "print(\"QUESTION 8 - ANSWERS\")"
   ]
  },
  {
   "cell_type": "code",
   "execution_count": null,
   "metadata": {},
   "outputs": [],
   "source": [
    "\"\"\"\n",
    "Generate a variety of logging messages to the console and a log file\n",
    "\"\"\"\n",
    "import logging\n",
    "\n",
    "# INSERT YOUR CODE HERE\n",
    "\n",
    "# create a logger my_logger with name 'question8_log'\n",
    "\n",
    "# create file handler which logs even ERROR messages or higher\n",
    "\n",
    "\n",
    "# create formatter and add it to the file handler\n",
    "\n",
    "\n",
    "# add the file handler to the (root) logger\n",
    "\n",
    "\n",
    "# generate logging messages with various log levels\n"
   ]
  },
  {
   "cell_type": "markdown",
   "metadata": {},
   "source": [
    "### <font color=\"blue\">Question 9 (10 points)</font>\n",
    "Answer the following 2 questions based on the logging messages displayed after running the above (Question 8) code.\n",
    "\n",
    "1. What message Levels are displayed in the console (output above)?\n",
    "2. What message Levels are written to the file CSC221Lab2.log?\n",
    "\n",
    "**NOTE:** You can insert your answers using Python code comments (#)"
   ]
  },
  {
   "cell_type": "markdown",
   "metadata": {},
   "source": [
    "### <font color=\"red\">Question 9 - ANSWERS</font>"
   ]
  },
  {
   "cell_type": "code",
   "execution_count": 1,
   "metadata": {},
   "outputs": [
    {
     "name": "stdout",
     "output_type": "stream",
     "text": [
      "QUESTION 9 - ANSWERS\n"
     ]
    }
   ],
   "source": [
    "# DO NOT MODIFY!\n",
    "print(\"QUESTION 9 - ANSWERS\")"
   ]
  },
  {
   "cell_type": "code",
   "execution_count": null,
   "metadata": {},
   "outputs": [],
   "source": [
    "# INSERT YOUR ANSWERS HERE\n",
    "\n",
    "# For Example\n",
    "# 1. The message Levels displayed in the console are ... \n",
    "# 2. The message Levels displayed in the log file (CSC221Lab2.log) are ..."
   ]
  }
 ],
 "metadata": {
  "kernelspec": {
   "display_name": "Python 3 (ipykernel)",
   "language": "python",
   "name": "python3"
  },
  "language_info": {
   "codemirror_mode": {
    "name": "ipython",
    "version": 3
   },
   "file_extension": ".py",
   "mimetype": "text/x-python",
   "name": "python",
   "nbconvert_exporter": "python",
   "pygments_lexer": "ipython3",
   "version": "3.9.12"
  }
 },
 "nbformat": 4,
 "nbformat_minor": 4
}

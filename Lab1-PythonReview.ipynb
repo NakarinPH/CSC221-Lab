{
 "cells": [
  {
   "cell_type": "markdown",
   "metadata": {},
   "source": [
    "# Lab1: Python Review and Jupyter Notebook Introduction"
   ]
  },
  {
   "cell_type": "markdown",
   "metadata": {},
   "source": [
    "## Author: <font color = \"red\">{Nakarin Philangam}</font>"
   ]
  },
  {
   "cell_type": "markdown",
   "metadata": {},
   "source": [
    "### This Lab will have you review some basic Python while getting some practice using Jupyter Notebook. \n",
    "\n",
    "<div class=\"alert alert-warning\">\n",
    "    <strong>Read through the information and ...</strong><br>\n",
    "    - Provide code for each step in the <font color=\"blue\">Question x</font> sections below.</strong><br>\n",
    "    - Insert your code following the <font color=\"red\">Question x - ANSWERS</font> heading in the cell containing '# INSERT YOUR CODE HERE'<br>\n",
    "    - <strong>DO NOT MAKE CHANGES</strong> to the cells containing '# DO NOT MODIFY!' comments - just run the cell to print the resulting values<br>These cells are used to generate the output used to verify your code.\n",
    "  \n",
    "</div>"
   ]
  },
  {
   "cell_type": "markdown",
   "metadata": {},
   "source": [
    "### Python  Built-in Data Types"
   ]
  },
  {
   "cell_type": "markdown",
   "metadata": {},
   "source": [
    "**w3schools.com**\n",
    "Built-in Data Types: Ref: https://www.w3schools.com/python/python_datatypes.asp\n",
    "        \n",
    "- <strong>Text:  </strong>str\n",
    "- <strong>Numerics:  </strong>int, float, and complex\n",
    "- <strong>Sequences:  </strong>list, tuple, range\n",
    "- <strong>Mappings:  </strong>dict\n",
    "- <strong>Sets:  </strong>set and frozenset \n",
    "- <strong>Boolean:  </strong>bool (True/False)\n",
    "- <strong>Binary: </strong>bytes, bytearray and memoryview\n",
    "- <strong>None:  </strong>NoneType"
   ]
  },
  {
   "cell_type": "markdown",
   "metadata": {},
   "source": [
    "### Strings\n",
    "\n",
    "Strings are arrays, so individual characters can be accessed via index or \n",
    "a range of characters can be returned using the slice syntax.\n",
    "\n",
    "**w3schools.com**\n",
    "- Strings: https://www.w3schools.com/python/python_strings.asp\n",
    "- String Methods: https://www.w3schools.com/python/python_strings_methods.asp"
   ]
  },
  {
   "cell_type": "code",
   "execution_count": 1,
   "metadata": {},
   "outputs": [
    {
     "name": "stdout",
     "output_type": "stream",
     "text": [
      "Welcome to CSC 221 Section 0001 - using single-quotes\n",
      "Welcome to CSC 221 Section 0001 - using double-quotes\n"
     ]
    }
   ],
   "source": [
    "# EXAMPLE\n",
    "# Strings are literals that can be enclosed in either single or double quotation marks\n",
    "print('Welcome to CSC 221 Section 0001 - using single-quotes')\n",
    "print(\"Welcome to CSC 221 Section 0001 - using double-quotes\")"
   ]
  },
  {
   "cell_type": "markdown",
   "metadata": {},
   "source": [
    "### <font color='blue'>Question 1 (10 points)</font>\n",
    "1. Assign text string __'Welcome to CSC 221'__ to variable __welcome_msg1__\n",
    "2. Assign the length of __welcome_msg1__ to variable __msg1_len__\n",
    "3. Assign text string __' Section 0001: '__ to variable __section__\n",
    "4. Concatenate string __welcome_msg1__ and __section__ and assign results to variable __welcome_msg2__ \n",
    "5. Assign text string __' Advanced Python Programming'__ to variable __classname__\n",
    "6. Concatenate string __welcome_msg2__ and __classname__ and assign results to variable __welcome_msg3__ \n",
    "7. Count the number of spaces(\" \") found in string __welcome_msg3__ and assign value to variable __msg3_spaces__\n",
    "8. Split __welcome_msg3__ using space (\" \") as the separator and assign the results to variable __msg3_split__\n",
    "9. Find the location of __'Python'__ in the string __welcome_msg3__ and assign the location to variable __msg3_python__\n",
    "10. Convert the string __welcome_msg3__ to upper case and assign to variable __msg3_upper__\n",
    "\n",
    "__NOTE__: Be careful to watch for spaces at the start and/or end of string values"
   ]
  },
  {
   "cell_type": "markdown",
   "metadata": {},
   "source": [
    "### <font color=\"red\">Question 1 - ANSWERS</font>"
   ]
  },
  {
   "cell_type": "code",
   "execution_count": 1,
   "metadata": {},
   "outputs": [],
   "source": [
    "# INSERT YOUR CODE HERE\n",
    "# 1. Assign text string 'Welcome to CSC 221' to variable welcome_msg1\n",
    "welcome_msg1 = 'Welcome to CSC 221'\n",
    "\n",
    "# 2. Assign the length of welcome_msg1 to variable msg1_len\n",
    "msg1_len = len(welcome_msg1)\n",
    "\n",
    "# 3. Assign text string ' Section 0001: ' to variable section\n",
    "section = ' Section 0001:'\n",
    "\n",
    "# 4. Concatenate string welcome_msg1 and section and assign results to variable welcome_msg2\n",
    "welcome_msg2 = welcome_msg1 + section\n",
    "\n",
    "# 5. Assign text string ' Advanced Python Programming' to variable classname\n",
    "classname = ' Advanced Python Programming'\n",
    "\n",
    "# 6. Concatenate string welcome_msg2 and classname and assign results to variable welcome_msg3\n",
    "welcome_msg3 = welcome_msg2 + classname\n",
    "\n",
    "# 7. Count the number of spaces(\" \") found in string welcome_msg3 and assign value to variable msg3_spaces\n",
    "msg3_spaces = 0\n",
    "for i in welcome_msg3:\n",
    "    if(i.isspace()):\n",
    "        msg3_spaces += 1\n",
    "\n",
    "# 8. Split welcome_msg3 using space (\" \") as the separator and assign the results to variable msg3_split\n",
    "msg3_split = welcome_msg3.split(\" \")\n",
    "\n",
    "# 9. Find the location of 'Python' in the string welcome_msg3 and assign the location to variable msg3_python\n",
    "msg3_python = welcome_msg3.index('Python')\n",
    "\n",
    "# 10. Convert the string welcome_msg3 to upper case and assign to variable msg3_upper\n",
    "msg3_upper = welcome_msg3.upper()"
   ]
  },
  {
   "cell_type": "code",
   "execution_count": 2,
   "metadata": {},
   "outputs": [
    {
     "name": "stdout",
     "output_type": "stream",
     "text": [
      "QUESTION 1 - ANSWERS\n",
      "Welcome to CSC 221\n",
      "18\n",
      "Welcome to CSC 221 Section 0001:\n",
      "Welcome to CSC 221 Section 0001: Advanced Python Programming\n",
      "8\n",
      "['Welcome', 'to', 'CSC', '221', 'Section', '0001:', 'Advanced', 'Python', 'Programming']\n",
      "42\n",
      "WELCOME TO CSC 221 SECTION 0001: ADVANCED PYTHON PROGRAMMING\n"
     ]
    }
   ],
   "source": [
    "# DO NOT MODIFY!\n",
    "print(\"QUESTION 1 - ANSWERS\")\n",
    "print(welcome_msg1)\n",
    "print(msg1_len)\n",
    "print(welcome_msg2)\n",
    "print(welcome_msg3)\n",
    "print(msg3_spaces)\n",
    "print(msg3_split)\n",
    "print(msg3_python)\n",
    "print(msg3_upper)"
   ]
  },
  {
   "cell_type": "markdown",
   "metadata": {},
   "source": [
    "### Int, Float, Bool\n",
    "\n",
    "Integer, Float and Boolean values:\n",
    "- Int (integer) is a whole number, postive or negative, without decimals\n",
    "- Float (floating point) is a number, positive or negative, with a decimal\n",
    "- Bool (boolean) is a value of True or False\n",
    "    - Any string (except empty string) = True\n",
    "    - Any number (except 0) = True\n",
    "    \n",
    "**w3schools.com**\n",
    "- Numbers: https://www.w3schools.com/python/python_numbers.asp\n",
    "- Boolean: https://www.w3schools.com/python/python_booleans.asp"
   ]
  },
  {
   "cell_type": "markdown",
   "metadata": {},
   "source": [
    "### <font color=\"blue\">Question 2 (10 points)</font>\n",
    "1. Assign 'x1' a value of 2 \n",
    "2. Assign 'x1's TYPE to variable 'x1_type' \n",
    "3. Assign 'x2' a value of 2.5 \n",
    "4. Assign 'x2's TYPE to variable 'x2_type' \n",
    "5. Assign 'z1' a value of 1\n",
    "6. Assign the BOOLEAN of 'z1' to variable 'z1_bool' \n",
    "7. Assign 'z2' a value of 0 \n",
    "8. Assign the BOOLEAN of 'z2' to variable 'z2_bool' \n",
    "9. Assign 'z3' a value of 'Zero'\n",
    "10. Assign the BOOLEAN of 'z3' to variable 'z3_bool' "
   ]
  },
  {
   "cell_type": "markdown",
   "metadata": {},
   "source": [
    "### <font color=\"red\">Question 2 - ANSWERS</font>"
   ]
  },
  {
   "cell_type": "code",
   "execution_count": 33,
   "metadata": {},
   "outputs": [],
   "source": [
    "# INSERT YOUR CODE HERE\n",
    "x1 = 2\n",
    "x1_type = type(x1)\n",
    "x2 = 2.5\n",
    "x2_type = type(x2)\n",
    "z1 = 1\n",
    "z1_bool = bool(z1)\n",
    "z2 = 0\n",
    "z2_bool = bool(z2)\n",
    "z3 = 'Zero'\n",
    "z3_bool = bool(z3)"
   ]
  },
  {
   "cell_type": "code",
   "execution_count": 34,
   "metadata": {},
   "outputs": [
    {
     "name": "stdout",
     "output_type": "stream",
     "text": [
      "QUESTION 2 - ANSWERS\n",
      "2\n",
      "<class 'int'>\n",
      "2.5\n",
      "<class 'float'>\n",
      "1\n",
      "True\n",
      "0\n",
      "False\n",
      "Zero\n",
      "True\n"
     ]
    }
   ],
   "source": [
    "# DO NOT MODIFY!\n",
    "print(\"QUESTION 2 - ANSWERS\")\n",
    "print(x1)\n",
    "print(x1_type)\n",
    "\n",
    "print(x2)\n",
    "print(x2_type)\n",
    "\n",
    "print(z1)\n",
    "print(z1_bool)\n",
    "\n",
    "print(z2)\n",
    "print(z2_bool)\n",
    "\n",
    "print(z3)\n",
    "print(z3_bool)"
   ]
  },
  {
   "cell_type": "markdown",
   "metadata": {},
   "source": [
    "### Python Collections\n",
    "### Lists, Tuples, Sets and Dictionaries\n",
    "- <strong>List:</strong> a collection that is ordered and changeable. Lists are written with square brackets [...]\n",
    "- <strong>Tuple:</strong> a collection that is ordered but unchangeable. Tuples are written with round brackets (...)\n",
    "- <strong>Set:</strong> a collection which is unordered and uninidexed. Sets are written with curly brackets {...}\n",
    "- <strong>Dictionary:</strong> a collection which is unordered, changeable and indexed. Dictionaries are written with curly brackets {...} and they have keys & values.\n",
    "\n",
    "    \n",
    "**w3schools.com**\n",
    "- List: https://www.w3schools.com/python/python_lists.asp\n",
    "- Tuple: https://www.w3schools.com/python/python_tuples.asp\n",
    "- Set: https://www.w3schools.com/python/python_sets.asp\n",
    "- Dictionary: https://www.w3schools.com/python/python_dictionaries.asp"
   ]
  },
  {
   "cell_type": "markdown",
   "metadata": {},
   "source": [
    "### Practice working with Lists"
   ]
  },
  {
   "cell_type": "markdown",
   "metadata": {},
   "source": [
    "### <font color=\"blue\">Question 3 (10 points)</font>\n",
    "1. Create a list named __colors__ with the values: __'red', 'white', 'blue', 'peach', 'purple', 'pink'__\n",
    "2. Append the value __'blue'__ to the list __colors__\n",
    "3. Assign the index value of element __'blue'__ to variable __blue_index__\n",
    "4. Remove __'purple'__ from the list __colors__\n",
    "5. Insert __'lavender'__ into the list after __'blue'__\n",
    "6. Copy the list __colors__ to variable __colors_rev__ \n",
    "7. Reverse the order of the entries in __colors_rev__\n",
    "8. Remove the last item from the list __colors_rev__\n",
    "9. Sort the list __colors_rev__\n",
    "10. Count the number of times __'blue'__ appears in __colors__ and assign to variable __blue_count__"
   ]
  },
  {
   "cell_type": "markdown",
   "metadata": {},
   "source": [
    "### <font color=\"red\">Question 3 - ANSWERS</font>"
   ]
  },
  {
   "cell_type": "code",
   "execution_count": 3,
   "metadata": {},
   "outputs": [],
   "source": [
    "# INSERT YOUR CODE HERE\n",
    "colors = ['red', 'white', 'blue', 'peach', 'purple', 'pink']\n",
    "colors.append('blue')\n",
    "blue_index = colors.index('blue')\n",
    "colors.remove('purple')\n",
    "colors.insert(blue_index + 1,'lavender')\n",
    "colors_rev = colors.copy()\n",
    "colors_rev.reverse()\n",
    "colors_rev.pop()\n",
    "colors_rev.sort()\n",
    "blue_count = 0\n",
    "for i in colors:\n",
    "    if i == 'blue':\n",
    "        blue_count += 1"
   ]
  },
  {
   "cell_type": "code",
   "execution_count": 52,
   "metadata": {},
   "outputs": [
    {
     "name": "stdout",
     "output_type": "stream",
     "text": [
      "QUESTION 3 - ANSWERS\n",
      "2\n",
      "['red', 'white', 'blue', 'lavender', 'peach', 'pink', 'blue']\n",
      "['blue', 'blue', 'lavender', 'peach', 'pink', 'white']\n",
      "2\n"
     ]
    }
   ],
   "source": [
    "# DO NOT MODIFY!\n",
    "print(\"QUESTION 3 - ANSWERS\")\n",
    "print(blue_index)\n",
    "print(colors)\n",
    "print(colors_rev)\n",
    "print(blue_count)"
   ]
  },
  {
   "cell_type": "markdown",
   "metadata": {},
   "source": [
    "### Practice working with Tuples"
   ]
  },
  {
   "cell_type": "markdown",
   "metadata": {},
   "source": [
    "### <font color=\"blue\">Question 4 (10 points)</font>\n",
    "1. Create a tuple named 'fruit' with the following values: 'apple', 'pear', 'banana', 'orange', 'peach'\n",
    "2. Assign 'fruits's TYPE to variable 'fruit_type' \n",
    "3. Assign the 2nd element in the tuple 'fruit' to variable 'fruit_2'\n",
    "4. Assign the index value of element 'banana' to variable 'banana_index'\n",
    "5. Assign to the 2nd to last element in the tuple 'fruit' to variable 'fruit_2fromlast' **USE negative indexing**\n",
    "6. Create a tuple named 'vegi' with the following elements: 'carrot', 'celery', 'lettuce'\n",
    "7. Concatenate tuples 'fruit' & 'vegi' to form a tuple named 'food'\n",
    "8. Assign the LENGTH of tuple 'food' to variable 'food_len'\n",
    "9. Convert the tuple 'food' to a LIST named 'food_list'\n",
    "10. Assign 'food_list's TYPE to variable 'food_list_type' "
   ]
  },
  {
   "cell_type": "markdown",
   "metadata": {},
   "source": [
    "### <font color=\"red\">Question 4 - ANSWERS</font>"
   ]
  },
  {
   "cell_type": "code",
   "execution_count": 5,
   "metadata": {},
   "outputs": [],
   "source": [
    "# INSERT YOUR CODE HERE\n",
    "fruit = ('apple', 'pear', 'banana', 'orange', 'peach')\n",
    "fruit_type = type(fruit)\n",
    "fruit_2 = fruit\n",
    "banana_index = fruit.index('banana')\n",
    "fruit_2fromlast = fruit_2[-1]\n",
    "vegi = ('carrot', 'celery', 'lettuce')\n",
    "food = fruit + vegi\n",
    "food_len = len(food)\n",
    "food_list = list(food)\n",
    "food_list_type = type(food_list)"
   ]
  },
  {
   "cell_type": "code",
   "execution_count": 6,
   "metadata": {},
   "outputs": [
    {
     "name": "stdout",
     "output_type": "stream",
     "text": [
      "QUESTION 4 - ANSWERS\n",
      "('apple', 'pear', 'banana', 'orange', 'peach')\n",
      "<class 'tuple'>\n",
      "('apple', 'pear', 'banana', 'orange', 'peach')\n",
      "2\n",
      "peach\n",
      "('carrot', 'celery', 'lettuce')\n",
      "('apple', 'pear', 'banana', 'orange', 'peach', 'carrot', 'celery', 'lettuce')\n",
      "8\n",
      "['apple', 'pear', 'banana', 'orange', 'peach', 'carrot', 'celery', 'lettuce']\n",
      "<class 'list'>\n"
     ]
    }
   ],
   "source": [
    "# DO NOT MODIFY!\n",
    "print(\"QUESTION 4 - ANSWERS\")\n",
    "print(fruit)\n",
    "print(fruit_type)\n",
    "print(fruit_2)\n",
    "print(banana_index)\n",
    "print(fruit_2fromlast)\n",
    "print(vegi)\n",
    "print(food)\n",
    "print(food_len)\n",
    "print(food_list)\n",
    "print(food_list_type)"
   ]
  },
  {
   "cell_type": "markdown",
   "metadata": {},
   "source": [
    "### Practice working with Sets"
   ]
  },
  {
   "cell_type": "markdown",
   "metadata": {},
   "source": [
    "### <font color=\"blue\">Question 5 (10 points)</font>\n",
    "1. Create a set named 'dogs' with the following values: 'Lab', 'Beagle', 'Husky', 'Rottweiler'\n",
    "2. Assign 'dogs's TYPE to variable 'dogs_type' \n",
    "3. Add 'Poodle' to the set 'dogs'\n",
    "4. Remove 'Husky' from the set 'dogs'\n",
    "5. Create a set named 'cats' with the following values: 'Persian', 'Siamese', 'Scottish Fold', 'Burmese'\n",
    "6. Join the sets 'dogs' & 'cats' to form a new set named 'pets'\n",
    "7. Create a set named 'animals' with the following values: 'Lab', 'Boxer', 'Bengal', Siamese', 'Bulldog'\n",
    "8. Assign the INTERSECTION of the sets 'pets' & 'animals' to variable 'common'\n",
    "9. Assign the DIFFERENCE between the sets 'pets' & 'animals' to variable 'diff'\n",
    "10. Check to see if set 'pets' is a SUBSET of 'animals' -- assign the results to variable 'is_subset'"
   ]
  },
  {
   "cell_type": "markdown",
   "metadata": {},
   "source": [
    "### <font color=\"red\">Question 5 - ANSWERS</font>"
   ]
  },
  {
   "cell_type": "code",
   "execution_count": 7,
   "metadata": {},
   "outputs": [],
   "source": [
    "# INSERT YOUR CODE HERE\n",
    "dogs = {'Lab', 'Beagle', 'Husky', 'Rottweiler'}\n",
    "dogs_type = type(dogs)\n",
    "dogs.add('Poodle')\n",
    "dogs.remove('Husky')\n",
    "cats = {'Persian', 'Siamese', 'Scottish Fold', 'Burmese'}\n",
    "pets = dogs.union(cats)\n",
    "animals = {'Lab', 'Boxer', 'Bengal', 'Siamese', 'Bulldog'}\n",
    "common = pets.intersection(animals)\n",
    "diff = pets.difference(animals)\n",
    "is_subset = pets.issubset(animals)"
   ]
  },
  {
   "cell_type": "code",
   "execution_count": 8,
   "metadata": {},
   "outputs": [
    {
     "name": "stdout",
     "output_type": "stream",
     "text": [
      "QUESTION 5 - ANSWERS\n",
      "{'Rottweiler', 'Beagle', 'Poodle', 'Lab'}\n",
      "<class 'set'>\n",
      "{'Burmese', 'Persian', 'Siamese', 'Scottish Fold'}\n",
      "{'Burmese', 'Siamese', 'Rottweiler', 'Scottish Fold', 'Beagle', 'Persian', 'Poodle', 'Lab'}\n",
      "{'Bengal', 'Siamese', 'Boxer', 'Lab', 'Bulldog'}\n",
      "{'Lab', 'Siamese'}\n",
      "{'Burmese', 'Rottweiler', 'Scottish Fold', 'Beagle', 'Persian', 'Poodle'}\n",
      "False\n"
     ]
    }
   ],
   "source": [
    "# DO NOT MODIFY!\n",
    "print(\"QUESTION 5 - ANSWERS\")\n",
    "print(dogs)\n",
    "print(dogs_type)\n",
    "print(cats)\n",
    "print(pets)\n",
    "print(animals)\n",
    "print(common)\n",
    "print(diff)\n",
    "print(is_subset)"
   ]
  },
  {
   "cell_type": "markdown",
   "metadata": {},
   "source": [
    "### Practice working with Dictionaries"
   ]
  },
  {
   "cell_type": "markdown",
   "metadata": {},
   "source": [
    "### <font color=\"blue\">Question 6 (10 points)</font>\n",
    "1. Create a dictionary __NBAteams__ with the following keys:value pairs: <br> \n",
    "'Boston': 'Celtics', 'Los Angeles': ['Lakers', 'Clippers'], 'Charlotte': 'Hornets', 'Cleveland': 'Cavaliers'\n",
    "2. Assign __NBAteams__ TYPE to variable __NBAteams_type__\n",
    "3. Assign the value whose is __'Boston'__ to variable __boston__\n",
    "4. Assign __boston__ TYPE to variable __boston_type__\n",
    "5. Assign the value whose key is __'Los Angeles'__ to variable __los_angeles__\n",
    "6. Assign __los_angeles__ TYPE to variable __LA_type__\n",
    "7. Add a new key:value pair __'Dallas': 'Mavericks'__ to the __NBAteams__ dictionary:  \n",
    "8. Remove the dictionary entry with the key __'Charlotte'__ from __NBAteams__\n",
    "9. Get the KEYS from __NBAteams__ and assign the values to variable __NBATeams_keys__\n",
    "10. Get the VALUES from __NBAteams__ and assign the values to variable __NBATeams_values__"
   ]
  },
  {
   "cell_type": "markdown",
   "metadata": {},
   "source": [
    "### <font color=\"red\">Question 6 - ANSWERS</font>"
   ]
  },
  {
   "cell_type": "code",
   "execution_count": 42,
   "metadata": {},
   "outputs": [],
   "source": [
    "# INSERT YOUR CODE HERE\n",
    "NBAteams = {'Boston': 'Celtics', 'Los Angeles': ['Lakers', 'Clippers'], 'Charlotte': 'Hornets', 'Cleveland': 'Cavaliers'}\n",
    "NBAteams_type = type(NBAteams)\n",
    "boston = NBAteams['Boston']\n",
    "boston_type = type(boston)\n",
    "los_angeles = NBAteams.get('Los Angeles')\n",
    "LA_type = type(los_angeles)\n",
    "NBAteams['Dallas'] = 'Mavericks'\n",
    "NBAteams.pop('Charlotte')\n",
    "NBAteams_keys = NBAteams.keys()\n",
    "NBAteams_values = NBAteams.values()"
   ]
  },
  {
   "cell_type": "code",
   "execution_count": 43,
   "metadata": {},
   "outputs": [
    {
     "name": "stdout",
     "output_type": "stream",
     "text": [
      "QUESTION 6 - ANSWERS\n",
      "{'Boston': 'Celtics', 'Los Angeles': ['Lakers', 'Clippers'], 'Cleveland': 'Cavaliers', 'Dallas': 'Mavericks'}\n",
      "<class 'dict'>\n",
      "Celtics\n",
      "<class 'str'>\n",
      "['Lakers', 'Clippers']\n",
      "<class 'list'>\n",
      "dict_keys(['Boston', 'Los Angeles', 'Cleveland', 'Dallas'])\n",
      "dict_values(['Celtics', ['Lakers', 'Clippers'], 'Cavaliers', 'Mavericks'])\n"
     ]
    }
   ],
   "source": [
    "print(\"QUESTION 6 - ANSWERS\")\n",
    "print(NBAteams)\n",
    "print(NBAteams_type)\n",
    "print(boston)\n",
    "print(boston_type)\n",
    "print(los_angeles)\n",
    "print(LA_type)\n",
    "print(NBAteams_keys)\n",
    "print(NBAteams_values)"
   ]
  },
  {
   "cell_type": "markdown",
   "metadata": {},
   "source": [
    "### Python Control Flows\n",
    "### if - statements\n",
    "Python uses logic conditions to control program flow.<br>\n",
    "Python uses indentation to define the scope of if-elif-else clauses (blocks). The standard (PEP8) indention is 4 spaces.\n",
    "\n",
    "#### Python Conditions\n",
    "- <strong>Equals:</strong> a == b\n",
    "- <strong>Not Equals:</strong> a != b\n",
    "- <strong>Less than:</strong> a < b\n",
    "- <strong>Less than or equal to:</strong> a <= b\n",
    "- <strong>Greater than:</strong> a > b\n",
    "- <strong>Greater than or equal to:</strong> a >= b\n",
    "\n",
    "    \n",
    "**w3schools.com**\n",
    "- if-else: https://www.w3schools.com/python/python_conditions.asp"
   ]
  },
  {
   "cell_type": "markdown",
   "metadata": {},
   "source": [
    "### <font color=\"blue\">Question 7 (10 points)</font>\n",
    "1. Create two variables: __child1__ = 12 and __child2__ = 7\n",
    "2. <strong>Using if-else ... </strong>\n",
    "- if __child1__ is greater than equal __child2__ ... print \"child1 is older than child2\"\n",
    "- (else) print \"child1 is younger than child2\"\n",
    "3. Create a new variable: __child3__ = 7\n",
    "4. <strong>Using if-elif-else ... </strong>\n",
    "- if __child2__ equals __child3__ ... print \"child2 is the same age as child3\"\n",
    "- (elif) if __child2__  greater than __child3__  ... print \"child2 is older than child3\"\n",
    "- (else) print \"child2 is younger than child3\"\n",
    "5. <strong>Using if-elif-else ... </strong>\n",
    "- if __child1__ greater than or equal to 13... print \"child1 is a teenager\" \n",
    "- (elif) if __child1__ greater than or equal to 9... print \"child1 is a pre-teen\"\n",
    "- (elif) if __child1__ greater than or equal to 4... print \"child1 is a child\"\n",
    "- else print \"child1 is a baby\""
   ]
  },
  {
   "cell_type": "markdown",
   "metadata": {},
   "source": [
    "### <font color=\"red\">Question 7 - ANSWERS</font>"
   ]
  },
  {
   "cell_type": "code",
   "execution_count": 27,
   "metadata": {},
   "outputs": [
    {
     "name": "stdout",
     "output_type": "stream",
     "text": [
      "QUESTION 7 - ANSWERS\n",
      "child1 is older than child2\n",
      "child2 is the same age as child3\n",
      "child1 is a pre-teen\n"
     ]
    }
   ],
   "source": [
    "print(\"QUESTION 7 - ANSWERS\")\n",
    "# INSERT YOUR CODE HERE\n",
    "child1 = 12\n",
    "child2 = 7\n",
    "if child1 > child2:\n",
    "    print(\"child1 is older than child2\")\n",
    "else:\n",
    "    print(\"child1 is younger than child2\")\n",
    "child3 = 7\n",
    "if child2 == child3:\n",
    "    print(\"child2 is the same age as child3\")\n",
    "elif child2 > child3:\n",
    "    print(\"child2 is older than child3\")\n",
    "else:\n",
    "    print(\"child2 is younger than child3\")\n",
    "\n",
    "if child1 >= 13:\n",
    "    print(\"child1 is a teenager\")\n",
    "elif child1 >= 9:\n",
    "    print(\"child1 is a pre-teen\")\n",
    "elif child1 >= 4:\n",
    "    print(\"child1 is a child\")\n",
    "else:\n",
    "    print(\"child1 is a baby\")"
   ]
  },
  {
   "cell_type": "markdown",
   "metadata": {},
   "source": [
    "### Python Loops\n",
    "**While Loops:** execute a set of statements as long as a condition is True<br>\n",
    "**For Loops:** iterate over a sequence executing a set of statements once for each item in the sequence\n",
    "    \n",
    "**w3schools.com**\n",
    "- while loops: https://www.w3schools.com/python/python_while_loops.asp\n",
    "- for loops: https://www.w3schools.com/python/python_for_loops.asp"
   ]
  },
  {
   "cell_type": "markdown",
   "metadata": {},
   "source": [
    "### <font color=\"blue\">Question 8 (10 points)</font>\n",
    "1. Create a list named 'subjects' with the following values: 'Math', 'Science', 'English'\n",
    "3. Assign the TYPE of 'subjects' to variable 'subjects_type'\n",
    "4. Assign the LENGTH of 'subjects' to variable 'subjects_len'\n",
    "5. <strong>Using a WHILE-loop ... </strong>\n",
    "- create a list named 'while_list' containing each element in 'subjects'\n",
    "6. <strong>Using a FOR-loop ... </strong>\n",
    "- create a list named 'for_list' containing each element in 'subjects'\n",
    "7. Assign the 2nd item in the list 'subjects' to variable 'science'\n",
    "8. Assign the TYPE of 'science' to variable 'science_type'\n",
    "9. Assign the LENGTH of 'science' to variable 'science_len'\n",
    "10. <strong>Using a FOR-loop ... </strong>\n",
    "- create a list named 'science_list' containing each character in 'science'"
   ]
  },
  {
   "cell_type": "markdown",
   "metadata": {},
   "source": [
    "### <font color=\"red\">Question 8 - ANSWERS</font>"
   ]
  },
  {
   "cell_type": "code",
   "execution_count": 38,
   "metadata": {},
   "outputs": [],
   "source": [
    "# INSERT YOUR CODE HERE\n",
    "subjects = ['Math', 'Science', 'English']\n",
    "subjects_type = type(subjects)\n",
    "subjects_len = len(subjects)\n",
    "while_list = []\n",
    "i = 0\n",
    "while i < subjects_len:\n",
    "    while_list.append(subjects[i])\n",
    "    i = i + 1\n",
    "for_list = []\n",
    "for x in subjects:\n",
    "    for_list.append(x)\n",
    "science = subjects[1]\n",
    "science_type = type(science)\n",
    "science_len = len(science)\n",
    "science_list = []\n",
    "for ch in science:\n",
    "    science_list.append(ch)"
   ]
  },
  {
   "cell_type": "code",
   "execution_count": 39,
   "metadata": {},
   "outputs": [
    {
     "name": "stdout",
     "output_type": "stream",
     "text": [
      "QUESTION 8 - ANSWERS\n",
      "['Math', 'Science', 'English']\n",
      "<class 'list'>\n",
      "3\n",
      "['Math', 'Science', 'English']\n",
      "['Math', 'Science', 'English']\n",
      "Science\n",
      "<class 'str'>\n",
      "7\n",
      "['S', 'c', 'i', 'e', 'n', 'c', 'e']\n"
     ]
    }
   ],
   "source": [
    "# DO NOT MODIFY!\n",
    "print(\"QUESTION 8 - ANSWERS\")\n",
    "print(subjects)\n",
    "print(subjects_type)\n",
    "print(subjects_len)\n",
    "print(while_list)\n",
    "print(for_list)\n",
    "print(science)\n",
    "print(science_type)\n",
    "print(science_len)\n",
    "print(science_list)"
   ]
  },
  {
   "cell_type": "markdown",
   "metadata": {},
   "source": [
    "### Python Range function\n",
    "The range() function returns a sequence of numbers, starting from 0 by default, and increments by 1 (by default), and stops before a specified number.\n",
    "    \n",
    "**w3schools.com**\n",
    "- range: https://www.w3schools.com/python/ref_func_range.asp\n"
   ]
  },
  {
   "cell_type": "markdown",
   "metadata": {},
   "source": [
    "### <font color=\"blue\">Question 9 (5 points)</font>\n",
    "**See the EXAMPLE in the ANSWERS section for print() statement formatting! **\n",
    "\n",
    "1. <strong>Using a FOR-loop and range() function ... </strong>\n",
    "- print the values 0-9 specifying **ONLY the STOP value**\n",
    "2. <strong>Using a FOR-loop and range() function ... </strong>\n",
    "- print the values from 5-10 inclusive (use default step increment)\n",
    "3. <strong>Using a FOR-loop and range() function ... </strong>\n",
    "- print only the EVEN numbers from 0-20 inclusive **USE STEP value to get only EVEN numbers**\n",
    "4. <strong>Using a FOR-loop and range() function ... </strong>\n",
    "- print only multiples of 5 from 0-50 inclusive (EX: 5,10,15 ...)  **USE STEP value to get multiples of 5**\n",
    "5. <strong>Using a FOR-loop and range() function ... </strong>\n",
    "- print the range 1-10 (inclusive) in REVERSE order **USE a NEGATIVE STEP value**"
   ]
  },
  {
   "cell_type": "markdown",
   "metadata": {},
   "source": [
    "### <font color=\"red\">Question 9 - ANSWERS</font>"
   ]
  },
  {
   "cell_type": "code",
   "execution_count": 49,
   "metadata": {},
   "outputs": [
    {
     "name": "stdout",
     "output_type": "stream",
     "text": [
      "EXAMPLE CODE \n",
      "0 1 2 3 4 \n",
      "\n",
      "QUESTION 9 - ANSWERS\n",
      "0 1 2 3 4 5 6 7 8 9 \n",
      "\n",
      "5 6 7 8 9 10 \n",
      "\n",
      "0 2 4 6 8 10 12 14 16 18 20 \n",
      "\n",
      "5 10 15 20 25 30 35 40 45 50 \n",
      "\n",
      "0 1 2 3 4 5 6 7 8 9 \n",
      "\n",
      "10 9 8 7 6 5 4 3 2 1 \n",
      "\n"
     ]
    }
   ],
   "source": [
    "# EXAMPLE CODE\n",
    "print(\"EXAMPLE CODE \")\n",
    "# EXAMPLE - USE print(r, end=' ') to print values on 1 line!\n",
    "#         - Followed by print('\\n') outside FOR-loop to generate a blank line\n",
    "for r in range(0,5):\n",
    "    print(r, end=' ')\n",
    "print('\\n')\n",
    "\n",
    "print(\"QUESTION 9 - ANSWERS\")\n",
    "# INSERT YOUR CODE HERE\n",
    "for n in range(10):\n",
    "    print(n, end=' ')\n",
    "print('\\n')\n",
    "\n",
    "for n in range(5,11):\n",
    "    print(n, end=' ')\n",
    "print('\\n')\n",
    "\n",
    "for n in range(0,21,2):\n",
    "    print(n, end=' ')\n",
    "print('\\n')\n",
    "\n",
    "for n in range(5,51,5):\n",
    "    print(n, end=' ')\n",
    "print('\\n')\n",
    "\n",
    "for n in range(10):\n",
    "    print(n, end=' ')\n",
    "print('\\n')\n",
    "\n",
    "for n in range(10,0,-1):\n",
    "    print(n, end=' ')\n",
    "print('\\n')"
   ]
  },
  {
   "cell_type": "markdown",
   "metadata": {},
   "source": [
    "### Python Functions\n",
    "#### A function is a block of code which only gets run when it is called\n",
    "\n",
    "\n",
    "Functions are defined using the keyword **def**\n",
    "    \n",
    "**w3schools.com**\n",
    "- Functions: https://www.w3schools.com/python/python_functions.asp"
   ]
  },
  {
   "cell_type": "markdown",
   "metadata": {},
   "source": [
    "### <font color=\"blue\">Question 10 (13 points)</font>\n",
    "1. Create a function named __say_hello()__ that prints the text \"Hello!\"\n",
    "2. Create a function named __say_something(msg)__ that takes __msg__ as input \n",
    "- if message text passed in (msg == \"anything\"), print the __msg__ \n",
    "- if no message text passed in (msg == \"\"), print __\"Speak up!\"__\n",
    "3. Create a function named __my_class__ that takes __dept, course, section__ as inputs, but with __section default = '0001'__\n",
    "- print the 3 values using the following format: __{dept}.{course}.{section}__ EXAMPLE: CSC.221.0001\n",
    "4. Create a function named __my_color(color)__ that takes a color as input, but with __color default = 'blue'__\n",
    "- prints the value of __color__\n",
    "5. Assign the TYPE of __say_hello()__ to variable __say_hello_type__\n",
    "6. Call function __say_hello()__\n",
    "7. Call function __say_something(...)__ passing in an empty string __\"\"__\n",
    "8. Call function __say_something(...)__ passing in the string __\"How are you doing today?\"__\n",
    "9. Call function __say_something(...)__ passing in the string __\"I am doing well. How about your?\"__\n",
    "10. Call function __my_class(..)__ passing in dept 'CSC'; course '221' and section '0001'\n",
    "11. Call function __my_class(..)__ passing in dept 'CTI' and course '110' (NO SECTION)\n",
    "12. Call function __my_class(..)__ passing in the string 'yellow'\n",
    "13. Call function __my_class(..)__ without passing in any color value "
   ]
  },
  {
   "cell_type": "markdown",
   "metadata": {},
   "source": [
    "### <font color=\"red\">Question 10 - ANSWERS</font>"
   ]
  },
  {
   "cell_type": "code",
   "execution_count": 67,
   "metadata": {},
   "outputs": [
    {
     "name": "stdout",
     "output_type": "stream",
     "text": [
      "Hello!\n"
     ]
    }
   ],
   "source": [
    "# INSERT YOUR CODE HERE - FUNCTION CODE ONLY\n",
    "\n",
    "# Create a function named 'say_hello' that prints \"Hello!\"\n",
    "def say_hello():\n",
    "    print(\"Hello!\")\n",
    "    \n",
    "# Create a function named 'say_something' \n",
    "def say_something(msg):\n",
    "    if msg == \"\":\n",
    "        print(\"Speak up!\")\n",
    "    else:\n",
    "        print(msg)\n",
    "    \n",
    "# Create a function named 'my_class\n",
    "def my_class(dept, course, section='0001'):\n",
    "    print(dept+'.'+course+'.'+section)\n",
    "    \n",
    "    \n",
    "# Create a function named 'my_color' \n",
    "def my_color(color='blue'):\n",
    "    print(color)\n",
    "\n",
    "say_hello_type = type(say_hello())    "
   ]
  },
  {
   "cell_type": "code",
   "execution_count": 70,
   "metadata": {},
   "outputs": [
    {
     "name": "stdout",
     "output_type": "stream",
     "text": [
      "QUESTION 10 - ANSWERS\n",
      "Hello!\n",
      "Speak up!\n",
      "How are you doing today\n",
      "I am doing well. How about your?\n",
      "CSC.221.0001\n",
      "CTI.110.\n",
      "yellow\n",
      "blue\n"
     ]
    }
   ],
   "source": [
    "print(\"QUESTION 10 - ANSWERS\")\n",
    "# INSERT YOUR CODE HERE - CALL FUNCTIONS, ETC.\n",
    "say_hello()\n",
    "say_something(\"\")\n",
    "say_something(\"How are you doing today\")\n",
    "say_something(\"I am doing well. How about your?\")\n",
    "my_class('CSC','221')\n",
    "my_class('CTI','110','')\n",
    "my_color('yellow')\n",
    "my_color()"
   ]
  },
  {
   "cell_type": "markdown",
   "metadata": {},
   "source": [
    "### Python Input/Output (I/O)\n",
    "#### Python I/O functions include: \n",
    "\n",
    "**open():** open a file<br>\n",
    "**read() / readline():** read a file or lines of a file<br>\n",
    "**write():** write to a file<br>\n",
    "**close():** close a file\n",
    "\n",
    "#### The syntax for open() is:\n",
    "- open(filename, mode) where the mode can be: read(\"r\"), write(\"w\"), append(\"a\"), create(\"x\") if not exist\n",
    "    \n",
    "**w3schools.com**\n",
    "- file open for read/read-line: https://www.w3schools.com/python/python_file_open.asp\n",
    "- file open for write: https://www.w3schools.com/python/python_file_write.asp"
   ]
  },
  {
   "cell_type": "markdown",
   "metadata": {},
   "source": [
    "### <font color=\"blue\">QUESTION 11 (2 points)</font>\n",
    "1. Open a new file \"CSC221Lab1.txt\" using \"w\" mode\n",
    "- Write the text \"I am a student in cource CSC 221 Section 0001\" to this file\n",
    "- Close the file\n",
    "2. Open the file using \"r\" mode\n",
    "- Print the contents of the file\n",
    "#### Note: If you look in your Jupyter Notebook Lab1 folder, you should see the new file \"CSC221Lab1.txt\""
   ]
  },
  {
   "cell_type": "markdown",
   "metadata": {},
   "source": [
    "### <font color=\"red\">Question 11 - ANSWERS</font>"
   ]
  },
  {
   "cell_type": "code",
   "execution_count": 71,
   "metadata": {},
   "outputs": [
    {
     "name": "stdout",
     "output_type": "stream",
     "text": [
      "QUESTION 11 - ANSWERS\n",
      "I am a student in cource CSC 221 Section 0001\n"
     ]
    }
   ],
   "source": [
    "print(\"QUESTION 11 - ANSWERS\")\n",
    "# INSERT YOUR CODE HERE\n",
    "# Open a new file \"CSC221Lab1.txt\" using \"w\" mode\n",
    "f = open(\"CSC221Lab1.txt\", \"w\")\n",
    "#  - Write the text \"I am a student in cource CSC 221 Section 0001\" to this file\n",
    "f.write(\"I am a student in cource CSC 221 Section 0001\")\n",
    "#  - Close the file\n",
    "f.close()\n",
    "\n",
    "# Open file \"CSC221Lab1.txt\" using \"r\" mode\n",
    "f = open(\"CSC221Lab1.txt\", \"r\")\n",
    "#  - Print the contents of the file\n",
    "print(f.read())\n"
   ]
  }
 ],
 "metadata": {
  "kernelspec": {
   "display_name": "Python 3 (ipykernel)",
   "language": "python",
   "name": "python3"
  },
  "language_info": {
   "codemirror_mode": {
    "name": "ipython",
    "version": 3
   },
   "file_extension": ".py",
   "mimetype": "text/x-python",
   "name": "python",
   "nbconvert_exporter": "python",
   "pygments_lexer": "ipython3",
   "version": "3.9.12"
  }
 },
 "nbformat": 4,
 "nbformat_minor": 4
}
